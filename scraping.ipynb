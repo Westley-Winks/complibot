{
 "cells": [
  {
   "cell_type": "code",
   "execution_count": 4,
   "metadata": {},
   "outputs": [],
   "source": [
    "from bs4 import BeautifulSoup\n",
    "import requests"
   ]
  },
  {
   "cell_type": "markdown",
   "metadata": {},
   "source": [
    "# Compliments"
   ]
  },
  {
   "cell_type": "code",
   "execution_count": 7,
   "metadata": {},
   "outputs": [],
   "source": [
    "compliments_url = \"https://thinkkindness.org/all-things-kindness/a-list-of-100-compliments/\"\n",
    "result = requests.get(compliments_url)\n",
    "content = result.text\n",
    "soup = BeautifulSoup(content, \"lxml\")"
   ]
  },
  {
   "cell_type": "code",
   "execution_count": 64,
   "metadata": {},
   "outputs": [],
   "source": [
    "li_tags = soup.find_all(\"li\", class_=\"\")"
   ]
  },
  {
   "cell_type": "code",
   "execution_count": 65,
   "metadata": {},
   "outputs": [],
   "source": [
    "idx = 0\n",
    "indices_to_drop = []\n",
    "\n",
    "for tag in li_tags:\n",
    "    tag = str(tag)\n",
    "    if tag[4] == \"\\n\":\n",
    "        indices_to_drop.append(idx)\n",
    "    idx += 1"
   ]
  },
  {
   "cell_type": "code",
   "execution_count": 67,
   "metadata": {},
   "outputs": [],
   "source": [
    "for index in sorted(indices_to_drop, reverse=True):\n",
    "    del li_tags[index]"
   ]
  },
  {
   "cell_type": "code",
   "execution_count": 71,
   "metadata": {},
   "outputs": [],
   "source": [
    "compliment_list = []\n",
    "\n",
    "for element in li_tags:\n",
    "    compliment_list.append(element.get_text())"
   ]
  },
  {
   "cell_type": "code",
   "execution_count": 73,
   "metadata": {},
   "outputs": [],
   "source": [
    "# with open(\"compliments.txt\", \"w\") as file:\n",
    "#     for item in compliment_list:\n",
    "#         file.write(f\"{item}\\n\")"
   ]
  },
  {
   "cell_type": "markdown",
   "metadata": {},
   "source": [
    "# Insults"
   ]
  },
  {
   "cell_type": "code",
   "execution_count": 74,
   "metadata": {},
   "outputs": [],
   "source": [
    "insults_url = \"https://ponly.com/funny-insults/\"\n",
    "result = requests.get(insults_url)\n",
    "content = result.text\n",
    "soup = BeautifulSoup(content, \"lxml\")"
   ]
  },
  {
   "cell_type": "code",
   "execution_count": 75,
   "metadata": {},
   "outputs": [],
   "source": [
    "li_tags = soup.find_all(\"p\", class_=\"\")"
   ]
  },
  {
   "cell_type": "code",
   "execution_count": 77,
   "metadata": {},
   "outputs": [],
   "source": [
    "idx = 0\n",
    "indices_to_drop = []\n",
    "\n",
    "for tag in li_tags:\n",
    "    tag = str(tag)\n",
    "    if tag[4] == \"<\":\n",
    "        indices_to_drop.append(idx)\n",
    "    idx += 1"
   ]
  },
  {
   "cell_type": "code",
   "execution_count": 78,
   "metadata": {},
   "outputs": [],
   "source": [
    "for index in sorted(indices_to_drop, reverse=True):\n",
    "    del li_tags[index]"
   ]
  },
  {
   "cell_type": "code",
   "execution_count": 79,
   "metadata": {},
   "outputs": [],
   "source": [
    "insult_list = []\n",
    "\n",
    "for element in li_tags:\n",
    "    insult_list.append(element.get_text())"
   ]
  },
  {
   "cell_type": "code",
   "execution_count": 81,
   "metadata": {},
   "outputs": [],
   "source": [
    "# with open(\"insults.txt\", \"w\") as file:\n",
    "#     for item in insult_list:\n",
    "#         file.write(f\"{item}\\n\")"
   ]
  }
 ],
 "metadata": {
  "interpreter": {
   "hash": "cd14a3da28388bb41a151c18868f1af5b64d59fe0357f253d0e6f4483692bb38"
  },
  "kernelspec": {
   "display_name": "Python 3.9.9 64-bit ('complibot': conda)",
   "language": "python",
   "name": "python3"
  },
  "language_info": {
   "codemirror_mode": {
    "name": "ipython",
    "version": 3
   },
   "file_extension": ".py",
   "mimetype": "text/x-python",
   "name": "python",
   "nbconvert_exporter": "python",
   "pygments_lexer": "ipython3",
   "version": "3.9.9"
  },
  "orig_nbformat": 4
 },
 "nbformat": 4,
 "nbformat_minor": 2
}
